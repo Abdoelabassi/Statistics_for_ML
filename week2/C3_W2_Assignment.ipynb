{
 "cells": [
  {
   "cell_type": "markdown",
   "id": "4caafec3",
   "metadata": {},
   "source": [
    "# Probability 2: Loaded dice \n",
    "\n",
    "In this assignment you will be reinforcening your intuition about the concepts covered in the lectures by taking the example with the dice to the next level. \n",
    "\n",
    "This assignment will not evaluate your coding skills but rather your intuition and analytical skills. You can answer any of the exercise questions by any means necessary, you can take the analytical route and compute the exact values or you can alternatively create some code that simulates the situations at hand and provide approximate values (grading will have some tolerance to allow approximate solutions). It is up to you which route you want to take! \n",
    "\n",
    "This graded notebook is different from what you might seen in other assignments of this specialization since only your answers are graded and not the code you used to get that answer. For every exercise there is a blank cell that you can use to make your calculations, this cell has just been placed there for you convenience but **will not be graded** so you can leave empty if you want to. \n",
    "\n",
    "However **you need to submit the answer for that exercise by running the cell that contains the `utils.exercise_x()` function**. By running this cell a widget will appear in which you can place your answers. Don't forget to click the `Save your answer!` button."
   ]
  },
  {
   "cell_type": "code",
   "execution_count": 1,
   "id": "da0fcf2f",
   "metadata": {
    "ExecuteTime": {
     "end_time": "2024-01-09T09:22:15.962607Z",
     "start_time": "2024-01-09T09:22:15.910554Z"
    }
   },
   "outputs": [],
   "source": [
    "import numpy as np\n",
    "import pandas as pd\n",
    "import seaborn as sns\n",
    "import matplotlib.pyplot as plt\n",
    "import utils"
   ]
  },
  {
   "cell_type": "markdown",
   "id": "4546a127",
   "metadata": {},
   "source": [
    "## Some concept clarifications 🎲🎲🎲\n",
    "\n",
    "During this assignment you will be presented with various scenarios that involve dice. Usually dice can have different numbers of sides and can be either fair or loaded.\n",
    "\n",
    "- A fair dice has equal probability of landing on every side.\n",
    "- A loaded dice does not have equal probability of landing on every side. Usually one (or more) sides have a greater probability of showing up than the rest.\n",
    "\n",
    "Let's get started!"
   ]
  },
  {
   "cell_type": "markdown",
   "id": "c8f09f02",
   "metadata": {},
   "source": [
    "## Exercise 1:\n",
    "\n"
   ]
  },
  {
   "cell_type": "markdown",
   "id": "3510c610",
   "metadata": {},
   "source": [
    "Given a 6-sided fair dice (all of the sides have equal probability of showing up), compute the mean and variance for the probability distribution that models said dice. The next figure shows you a visual represenatation of said distribution:\n",
    "\n",
    "<img src=\"./images/fair_dice.png\" style=\"height: 300px;\"/>\n",
    "\n",
    "**Submission considerations:**\n",
    "- Submit your answers as floating point numbers with three digits after the decimal point\n",
    "- Example: To submit the value of 1/4 enter 0.250"
   ]
  },
  {
   "cell_type": "markdown",
   "id": "5ee9b479",
   "metadata": {},
   "source": [
    "Hints: \n",
    "- You can use [np.random.choice](https://numpy.org/doc/stable/reference/random/generated/numpy.random.choice.html) to simulate a fair dice.\n",
    "- You can use [np.mean](https://numpy.org/doc/stable/reference/generated/numpy.mean.html) and [np.var](https://numpy.org/doc/stable/reference/generated/numpy.var.html) to compute the mean and variance of a numpy array."
   ]
  },
  {
   "cell_type": "code",
   "execution_count": 2,
   "id": "df437e8e",
   "metadata": {
    "ExecuteTime": {
     "end_time": "2024-01-09T09:22:28.434064Z",
     "start_time": "2024-01-09T09:22:28.395502Z"
    }
   },
   "outputs": [
    {
     "data": {
      "text/plain": "(3.5069999999999997, 2.897951000000001)"
     },
     "execution_count": 2,
     "metadata": {},
     "output_type": "execute_result"
    }
   ],
   "source": [
    "# You can use this cell for your calculations (not graded)\n",
    "dice = np.array([i for i in range(1,7)])\n",
    "n_rolls = 100\n",
    "n_trials = [np.random.choice(dice) for _ in range(n_rolls)]\n",
    "mean = np.mean(n_trials)\n",
    "variance = np.var(n_trials)\n",
    "p = 0.167\n",
    "m = map(lambda x: p*x, dice)\n",
    "m = sum(m)\n",
    "m_2 = map(lambda x: p*x**2, dice)\n",
    "m_2 = sum(m_2)\n",
    "v = m_2 - m**2\n",
    "m, v\n"
   ]
  },
  {
   "cell_type": "code",
   "execution_count": 6,
   "id": "db9477e7",
   "metadata": {
    "ExecuteTime": {
     "end_time": "2024-01-09T09:23:14.249083Z",
     "start_time": "2024-01-09T09:23:14.184007Z"
    }
   },
   "outputs": [
    {
     "data": {
      "text/plain": "FloatText(value=0.0, description='Mean:')",
      "application/vnd.jupyter.widget-view+json": {
       "version_major": 2,
       "version_minor": 0,
       "model_id": "e44c21c760944fa5a6cdf192978e610f"
      }
     },
     "metadata": {},
     "output_type": "display_data"
    },
    {
     "data": {
      "text/plain": "FloatText(value=0.0, description='Variance:')",
      "application/vnd.jupyter.widget-view+json": {
       "version_major": 2,
       "version_minor": 0,
       "model_id": "5fab86f229644b8786b803adbc1ad2f4"
      }
     },
     "metadata": {},
     "output_type": "display_data"
    },
    {
     "data": {
      "text/plain": "Button(button_style='success', description='Save your answer!', style=ButtonStyle())",
      "application/vnd.jupyter.widget-view+json": {
       "version_major": 2,
       "version_minor": 0,
       "model_id": "e461d69660c74572b2c48a8c7207f961"
      }
     },
     "metadata": {},
     "output_type": "display_data"
    },
    {
     "data": {
      "text/plain": "Output()",
      "application/vnd.jupyter.widget-view+json": {
       "version_major": 2,
       "version_minor": 0,
       "model_id": "31a64bbcedda4370b74d7de394e66c26"
      }
     },
     "metadata": {},
     "output_type": "display_data"
    }
   ],
   "source": [
    "# Run this cell to submit your answer\n",
    "utils.exercise_1()"
   ]
  },
  {
   "cell_type": "markdown",
   "id": "d43dcbbd",
   "metadata": {},
   "source": [
    "## Exercise 2:\n",
    "\n",
    "Now suppose you are throwing the dice (same dice as in the previous exercise) two times and recording the sum of each throw. Which of the following `probability mass functions` will be the one you should get?\n",
    "\n",
    "<table><tr>\n",
    "<td> <img src=\"./images/hist_sum_6_side.png\" style=\"height: 300px;\"/> </td>\n",
    "<td> <img src=\"./images/hist_sum_5_side.png\" style=\"height: 300px;\"/> </td>\n",
    "<td> <img src=\"./images/hist_sum_6_uf.png\" style=\"height: 300px;\"/> </td>\n",
    "</tr></table>\n"
   ]
  },
  {
   "cell_type": "markdown",
   "id": "605c58c0",
   "metadata": {},
   "source": [
    "Hints: \n",
    "- You can use numpy arrays to hold the results of many throws.\n",
    "- You can sum to numpy arrays by using the `+` operator like this: `sum = first_throw + second_throw`\n",
    "- To simulate multiple throws of a dice you can use list comprehension or a for loop"
   ]
  },
  {
   "cell_type": "code",
   "execution_count": 7,
   "id": "e9a8b2ed",
   "metadata": {
    "ExecuteTime": {
     "end_time": "2024-01-09T09:23:26.825590Z",
     "start_time": "2024-01-09T09:23:26.280658Z"
    }
   },
   "outputs": [
    {
     "data": {
      "text/plain": "<Figure size 640x480 with 1 Axes>",
      "image/png": "[encoded data removed]"
     },
     "metadata": {},
     "output_type": "display_data"
    }
   ],
   "source": [
    "# You can use this cell for your calculations (not graded)\n",
    "n_rolls= 10000\n",
    "first_roll = np.array([np.random.choice(dice) for _ in range(n_rolls)])\n",
    "second_roll = np.array([np.random.choice(dice) for _ in range(n_rolls)])\n",
    "\n",
    "sum_of_dice = first_roll + second_roll\n",
    "\n",
    "sum_plot = sns.histplot(sum_of_dice, stat=\"probability\", discrete=True)\n",
    "sum_plot.set_title(f\"Histogram of sum of {n_rolls} \")\n",
    "plt.show()\n"
   ]
  },
  {
   "cell_type": "code",
   "execution_count": 8,
   "id": "d4d5dcf9",
   "metadata": {
    "ExecuteTime": {
     "end_time": "2024-01-09T09:23:29.703355Z",
     "start_time": "2024-01-09T09:23:29.629347Z"
    }
   },
   "outputs": [
    {
     "data": {
      "text/plain": "ToggleButtons(description='Your answer:', options=('left', 'center', 'right'), value='left')",
      "application/vnd.jupyter.widget-view+json": {
       "version_major": 2,
       "version_minor": 0,
       "model_id": "3845dacae09c4e1c9aab91da18abbadb"
      }
     },
     "metadata": {},
     "output_type": "display_data"
    },
    {
     "data": {
      "text/plain": "Button(button_style='success', description='Save your answer!', style=ButtonStyle())",
      "application/vnd.jupyter.widget-view+json": {
       "version_major": 2,
       "version_minor": 0,
       "model_id": "0d98218071d84efaa5df1b601aa785dd"
      }
     },
     "metadata": {},
     "output_type": "display_data"
    },
    {
     "data": {
      "text/plain": "Output()",
      "application/vnd.jupyter.widget-view+json": {
       "version_major": 2,
       "version_minor": 0,
       "model_id": "63aef23443db40a3b5a9d5cddec0ee43"
      }
     },
     "metadata": {},
     "output_type": "display_data"
    }
   ],
   "source": [
    "# Run this cell to submit your answer\n",
    "utils.exercise_2()"
   ]
  },
  {
   "cell_type": "markdown",
   "id": "adfb889c",
   "metadata": {},
   "source": [
    "## Exercise 3:\n",
    "\n",
    "Given a fair 4-sided dice, you throw it two times and record the sum. The figure on the left shows the probabilities of the dice landing on each side and the right figure the histogram of the sum. Fill out the probabilities of each sum (notice that the distribution of the sum is symmetrical so you only need to input 4 values in total):\n",
    "\n",
    "<img src=\"./images/4_side_hists.png\" style=\"height: 300px;\"/>\n",
    "\n",
    "**Submission considerations:**\n",
    "- Submit your answers as floating point numbers with three digits after the decimal point\n",
    "- Example: To submit the value of 1/4 enter 0.250"
   ]
  },
  {
   "cell_type": "code",
   "execution_count": 9,
   "id": "342ca685",
   "metadata": {
    "ExecuteTime": {
     "end_time": "2024-01-09T09:23:39.844991Z",
     "start_time": "2024-01-09T09:23:39.785467Z"
    }
   },
   "outputs": [
    {
     "data": {
      "text/plain": "(0.0625, 0.125, 0.1875, 0.25)"
     },
     "execution_count": 9,
     "metadata": {},
     "output_type": "execute_result"
    }
   ],
   "source": [
    "# You can use this cell for your calculations (not graded)\n",
    "p_28 = 1/16\n",
    "p_37 = 2/16\n",
    "p_46 = 3/16\n",
    "p_5 = 4/16\n",
    "p_28, p_37, p_46, p_5\n"
   ]
  },
  {
   "cell_type": "code",
   "execution_count": 10,
   "id": "e0a24beb",
   "metadata": {
    "ExecuteTime": {
     "end_time": "2024-01-09T09:23:57.095786Z",
     "start_time": "2024-01-09T09:23:57.007390Z"
    }
   },
   "outputs": [
    {
     "data": {
      "text/plain": "FloatText(value=0.0, description='P for sum=2|8', style=DescriptionStyle(description_width='initial'))",
      "application/vnd.jupyter.widget-view+json": {
       "version_major": 2,
       "version_minor": 0,
       "model_id": "53ba56823c7247a29e3f6d11ca0d9ea8"
      }
     },
     "metadata": {},
     "output_type": "display_data"
    },
    {
     "data": {
      "text/plain": "FloatText(value=0.0, description='P for sum=3|7:', style=DescriptionStyle(description_width='initial'))",
      "application/vnd.jupyter.widget-view+json": {
       "version_major": 2,
       "version_minor": 0,
       "model_id": "cd45e699644e4a90823c680ca4043bf1"
      }
     },
     "metadata": {},
     "output_type": "display_data"
    },
    {
     "data": {
      "text/plain": "FloatText(value=0.0, description='P for sum=4|6:', style=DescriptionStyle(description_width='initial'))",
      "application/vnd.jupyter.widget-view+json": {
       "version_major": 2,
       "version_minor": 0,
       "model_id": "c4fbb6caae2e4a608c38d0f16de75c33"
      }
     },
     "metadata": {},
     "output_type": "display_data"
    },
    {
     "data": {
      "text/plain": "FloatText(value=0.0, description='P for sum=5:', style=DescriptionStyle(description_width='initial'))",
      "application/vnd.jupyter.widget-view+json": {
       "version_major": 2,
       "version_minor": 0,
       "model_id": "3aee7542a449426caa2c407ed4adb046"
      }
     },
     "metadata": {},
     "output_type": "display_data"
    },
    {
     "data": {
      "text/plain": "Button(button_style='success', description='Save your answer!', style=ButtonStyle())",
      "application/vnd.jupyter.widget-view+json": {
       "version_major": 2,
       "version_minor": 0,
       "model_id": "7db8956b176841989c26fdf228190467"
      }
     },
     "metadata": {},
     "output_type": "display_data"
    },
    {
     "data": {
      "text/plain": "Output()",
      "application/vnd.jupyter.widget-view+json": {
       "version_major": 2,
       "version_minor": 0,
       "model_id": "a97430c2e7c64bd6beeb9fd0d08cb8a2"
      }
     },
     "metadata": {},
     "output_type": "display_data"
    }
   ],
   "source": [
    "# Run this cell to submit your answer\n",
    "utils.exercise_3()"
   ]
  },
  {
   "cell_type": "markdown",
   "id": "108837bd",
   "metadata": {},
   "source": [
    "## Exercise 4:\n",
    "\n",
    "Using the same scenario as in the previous exercise. Compute the mean and variance of the sum of the two throws  and the covariance between the first and the second throw:\n",
    "\n",
    "<img src=\"./images/4_sided_hist_no_prob.png\" style=\"height: 300px;\"/>\n",
    "\n",
    "\n",
    "Hints:\n",
    "- You can use [np.cov](https://numpy.org/doc/stable/reference/generated/numpy.cov.html) to compute the covariance of two numpy arrays (this may not be needed for this particular exercise)."
   ]
  },
  {
   "cell_type": "code",
   "execution_count": 47,
   "id": "f4eadc3c",
   "metadata": {
    "ExecuteTime": {
     "end_time": "2024-01-09T11:58:45.111666Z",
     "start_time": "2024-01-09T11:58:44.876384Z"
    }
   },
   "outputs": [
    {
     "name": "stdout",
     "output_type": "stream",
     "text": [
      "The mean of the sum of first and second roll is 4.9873\n",
      "The variance of the sum of first and second roll is 2.54693871\n",
      "The covariance between the first roll and the second roll is [[1.25630162 0.01351313]\n",
      " [0.01351313 1.26386555]]\n"
     ]
    }
   ],
   "source": [
    "# You can use this cell for your calculations (not graded)\n",
    "n_rolls = 10000\n",
    "dice = np.array([i for i in range(1,5)])\n",
    "first_roll = np.array([np.random.choice(dice) for _ in range(n_rolls)])\n",
    "second_roll = np.array([np.random.choice(dice) for _ in range(n_rolls)])\n",
    "\n",
    "sum_of_rolls = first_roll + second_roll\n",
    "\n",
    "print(f\"The mean of the sum of first and second roll is {np.mean(sum_of_rolls)}\\nThe variance of the sum of first and second roll is {np.var(sum_of_rolls)}\")\n",
    "print(f\"The covariance between the first roll and the second roll is {np.cov(first_roll, second_roll)}\")\n"
   ]
  },
  {
   "cell_type": "code",
   "execution_count": 46,
   "id": "4e662b9b",
   "metadata": {
    "ExecuteTime": {
     "end_time": "2024-01-09T11:58:40.978485Z",
     "start_time": "2024-01-09T11:58:40.924492Z"
    }
   },
   "outputs": [
    {
     "data": {
      "text/plain": "FloatText(value=0.0, description='Mean:')",
      "application/vnd.jupyter.widget-view+json": {
       "version_major": 2,
       "version_minor": 0,
       "model_id": "b6f471f14d394eea8f2b843451d83b32"
      }
     },
     "metadata": {},
     "output_type": "display_data"
    },
    {
     "data": {
      "text/plain": "FloatText(value=0.0, description='Variance:')",
      "application/vnd.jupyter.widget-view+json": {
       "version_major": 2,
       "version_minor": 0,
       "model_id": "80516044d5544d3e94c1c65c1c748eca"
      }
     },
     "metadata": {},
     "output_type": "display_data"
    },
    {
     "data": {
      "text/plain": "FloatText(value=0.0, description='Covariance:')",
      "application/vnd.jupyter.widget-view+json": {
       "version_major": 2,
       "version_minor": 0,
       "model_id": "1b444ef3a73b4415841891ef8051e5ea"
      }
     },
     "metadata": {},
     "output_type": "display_data"
    },
    {
     "data": {
      "text/plain": "Button(button_style='success', description='Save your answer!', style=ButtonStyle())",
      "application/vnd.jupyter.widget-view+json": {
       "version_major": 2,
       "version_minor": 0,
       "model_id": "837def40b8b84841aa8050590f341616"
      }
     },
     "metadata": {},
     "output_type": "display_data"
    },
    {
     "data": {
      "text/plain": "Output()",
      "application/vnd.jupyter.widget-view+json": {
       "version_major": 2,
       "version_minor": 0,
       "model_id": "bb6f431211c84ae09bfe7a98d7b22a16"
      }
     },
     "metadata": {},
     "output_type": "display_data"
    }
   ],
   "source": [
    "# Run this cell to submit your answer\n",
    "utils.exercise_4()"
   ]
  },
  {
   "cell_type": "markdown",
   "id": "714e099b",
   "metadata": {},
   "source": [
    "## Exercise 5:\n",
    "\n",
    "\n",
    "Now suppose you are have a loaded 4-sided dice (it is loaded so that it lands twice as often on side 2 compared to the other sides): \n",
    "\n",
    "\n",
    "<img src=\"./images/4_side_uf.png\" style=\"height: 300px;\"/>\n",
    "\n",
    "You are throwing it two times and recording the sum of each throw. Which of the following `probability mass functions` will be the one you should get?\n",
    "\n",
    "<table><tr>\n",
    "<td> <img src=\"./images/hist_sum_4_4l.png\" style=\"height: 300px;\"/> </td>\n",
    "<td> <img src=\"./images/hist_sum_4_3l.png\" style=\"height: 300px;\"/> </td>\n",
    "<td> <img src=\"./images/hist_sum_4_uf.png\" style=\"height: 300px;\"/> </td>\n",
    "</tr></table>"
   ]
  },
  {
   "cell_type": "markdown",
   "id": "ecb27c1b",
   "metadata": {},
   "source": [
    "Hints: \n",
    "- You can use the `p` parameter of [np.random.choice](https://numpy.org/doc/stable/reference/random/generated/numpy.random.choice.html) to simulate a loaded dice."
   ]
  },
  {
   "cell_type": "code",
   "execution_count": 31,
   "id": "a35573ec",
   "metadata": {
    "ExecuteTime": {
     "end_time": "2024-01-09T11:13:56.962363Z",
     "start_time": "2024-01-09T11:13:55.299356Z"
    }
   },
   "outputs": [
    {
     "data": {
      "text/plain": "<Figure size 640x480 with 1 Axes>",
      "image/png": "[encoded data removed]"
     },
     "metadata": {},
     "output_type": "display_data"
    }
   ],
   "source": [
    "# You can use this cell for your calculations (not graded)\n",
    "def load_dice(n_sides, leaded_number):\n",
    "    probs = np.array([1/(n_sides+1) for _ in range(n_sides)])\n",
    "    \n",
    "    probs[leaded_number-1] = 1 - sum(probs[:-1])\n",
    "    \n",
    "    if not np.isclose(sum(probs), 1):\n",
    "        print(\"probabilities should sum up to 1\")\n",
    "        return\n",
    "    return probs\n",
    "\n",
    "unfair_dice = load_dice(4, 2)\n",
    "dice = np.array([i for i in range(1,5)])\n",
    "n_rolls = 20000\n",
    "first_roll = np.array([np.random.choice(dice, p=unfair_dice) for _ in range(n_rolls)])\n",
    "second_roll = np.array([np.random.choice(dice, p=unfair_dice) for _ in range(n_rolls)])\n",
    "\n",
    "sum_of_rolls = first_roll + second_roll\n",
    "\n",
    "sum_plot = sns.histplot(sum_of_rolls, stat=\"probability\", discrete=True)\n",
    "sum_plot.set_title(f\"Histogram of sum of {n_rolls} \")\n",
    "plt.show()\n"
   ]
  },
  {
   "cell_type": "code",
   "execution_count": 32,
   "id": "3104e647",
   "metadata": {
    "ExecuteTime": {
     "end_time": "2024-01-09T11:14:19.118436Z",
     "start_time": "2024-01-09T11:14:19.070439Z"
    }
   },
   "outputs": [
    {
     "data": {
      "text/plain": "ToggleButtons(description='Your answer:', options=('left', 'center', 'right'), value='left')",
      "application/vnd.jupyter.widget-view+json": {
       "version_major": 2,
       "version_minor": 0,
       "model_id": "a1be55fcd8574d88a542f53424b0ef6a"
      }
     },
     "metadata": {},
     "output_type": "display_data"
    },
    {
     "data": {
      "text/plain": "Button(button_style='success', description='Save your answer!', style=ButtonStyle())",
      "application/vnd.jupyter.widget-view+json": {
       "version_major": 2,
       "version_minor": 0,
       "model_id": "67146be977674642a32c7c116b917ce7"
      }
     },
     "metadata": {},
     "output_type": "display_data"
    },
    {
     "data": {
      "text/plain": "Output()",
      "application/vnd.jupyter.widget-view+json": {
       "version_major": 2,
       "version_minor": 0,
       "model_id": "1891db5ff23b4d5c9ed6ee8a0a17c439"
      }
     },
     "metadata": {},
     "output_type": "display_data"
    }
   ],
   "source": [
    "# Run this cell to submit your answer\n",
    "utils.exercise_5()"
   ]
  },
  {
   "cell_type": "markdown",
   "id": "0d0f3429",
   "metadata": {},
   "source": [
    "## Exercise 6:\n",
    "\n",
    "You have a 6-sided dice that is loaded so that it lands twice as often on side 3 compared to the other sides:\n",
    "\n",
    "<img src=\"./images/loaded_6_side.png\" style=\"height: 300px;\"/>\n",
    "\n",
    "You record the sum of throwing it twice. What is the highest value (of the sum) that will yield a cumulative probability lower or equal to 0.5?\n",
    "\n",
    "<img src=\"./images/loaded_6_cdf.png\" style=\"height: 300px;\"/>\n",
    "\n",
    "Hints:\n",
    "- The probability of side 3 is equal to $\\frac{2}{7}$"
   ]
  },
  {
   "cell_type": "code",
   "execution_count": 38,
   "id": "10feaaa8",
   "metadata": {
    "ExecuteTime": {
     "end_time": "2024-01-09T11:38:20.032630Z",
     "start_time": "2024-01-09T11:38:18.220200Z"
    }
   },
   "outputs": [
    {
     "name": "stdout",
     "output_type": "stream",
     "text": [
      "maximum sum: 12\n"
     ]
    },
    {
     "data": {
      "text/plain": "<Figure size 640x480 with 1 Axes>",
      "image/png": "[encoded data removed]"
     },
     "metadata": {},
     "output_type": "display_data"
    }
   ],
   "source": [
    "# You can use this cell for your calculations (not graded)\n",
    "prob_loaded_dice = load_dice(6, 3)\n",
    "dice = np.array([i for i in range(1,7)])\n",
    "n_rolls = 20000\n",
    "first_roll = np.array([np.random.choice(dice, p=prob_loaded_dice) for _ in range(n_rolls)])\n",
    "second_roll = np.array([np.random.choice(dice, p=prob_loaded_dice) for _ in range(n_rolls)])\n",
    "sum_of_rolls = first_roll + second_roll\n",
    "highest_value = max(sum_of_rolls)\n",
    "print(f\"maximum sum: {highest_value}\")\n",
    "sum_plot = sns.histplot(sum_of_rolls, stat=\"probability\", discrete=True, cumulative=True)\n",
    "sum_plot.set_title(f\"Histogram of sum of {n_rolls}\")\n",
    "plt.show()\n",
    "\n"
   ]
  },
  {
   "cell_type": "code",
   "execution_count": 39,
   "id": "963e5763",
   "metadata": {
    "ExecuteTime": {
     "end_time": "2024-01-09T11:39:11.921191Z",
     "start_time": "2024-01-09T11:39:11.861766Z"
    }
   },
   "outputs": [
    {
     "data": {
      "text/plain": "IntSlider(value=2, continuous_update=False, description='Sum:', max=12, min=2)",
      "application/vnd.jupyter.widget-view+json": {
       "version_major": 2,
       "version_minor": 0,
       "model_id": "dc5e6b8faa3549a786b28c8405573d00"
      }
     },
     "metadata": {},
     "output_type": "display_data"
    },
    {
     "data": {
      "text/plain": "Button(button_style='success', description='Save your answer!', style=ButtonStyle())",
      "application/vnd.jupyter.widget-view+json": {
       "version_major": 2,
       "version_minor": 0,
       "model_id": "63765bc36e0c424cb8930c5f1e2ca5e0"
      }
     },
     "metadata": {},
     "output_type": "display_data"
    },
    {
     "data": {
      "text/plain": "Output()",
      "application/vnd.jupyter.widget-view+json": {
       "version_major": 2,
       "version_minor": 0,
       "model_id": "d357275c42bf4fdba88b09b202d9bca9"
      }
     },
     "metadata": {},
     "output_type": "display_data"
    }
   ],
   "source": [
    "# Run this cell to submit your answer\n",
    "utils.exercise_6()"
   ]
  },
  {
   "cell_type": "markdown",
   "id": "f6684426",
   "metadata": {},
   "source": [
    "## Exercise 7:\n",
    "\n",
    "Given a 6-sided fair dice you try a new game. You only throw the dice a second time if the result of the first throw is **lower** or equal to 3. Which of the following `probability mass functions` will be the one you should get given this new constraint?\n",
    "\n",
    "<table><tr>\n",
    "<td> <img src=\"./images/6_sided_cond_green.png\" style=\"height: 250px;\"/> </td>\n",
    "<td> <img src=\"./images/6_sided_cond_blue.png\" style=\"height: 250px;\"/> </td>\n",
    "<td> <img src=\"./images/6_sided_cond_red.png\" style=\"height: 250px;\"/> </td>\n",
    "<td> <img src=\"./images/6_sided_cond_brown.png\" style=\"height: 250px;\"/> </td>\n",
    "\n",
    "</tr></table>\n",
    "\n",
    "Hints:\n",
    "- You can simulate the second throws as a numpy array and then make the values that met a certain criteria equal to 0 by using [np.where](https://numpy.org/doc/stable/reference/generated/numpy.where.html)"
   ]
  },
  {
   "cell_type": "code",
   "execution_count": 41,
   "id": "9e64d178",
   "metadata": {
    "ExecuteTime": {
     "end_time": "2024-01-09T11:44:49.249353Z",
     "start_time": "2024-01-09T11:44:48.060214Z"
    }
   },
   "outputs": [
    {
     "data": {
      "text/plain": "<Figure size 640x480 with 1 Axes>",
      "image/png": "[encoded data removed]"
     },
     "metadata": {},
     "output_type": "display_data"
    }
   ],
   "source": [
    "# You can use this cell for your calculations (not graded)\n",
    "dice = np.array([i for i in range(1,7)])\n",
    "n_rolls = 20000\n",
    "first_roll = np.array([np.random.choice(dice) for _ in range(n_rolls)])\n",
    "second_roll = np.array([np.random.choice(dice) for _ in range(n_rolls)])\n",
    "second_roll = np.where(first_roll<=3, second_roll, 0)\n",
    "sum_of_rolls = first_roll + second_roll\n",
    "sum_plot = sns.histplot(sum_of_rolls, stat=\"probability\", discrete=True)\n",
    "sum_plot.set_title(f\"Histogram of sum of {n_rolls}\")\n",
    "plt.show()"
   ]
  },
  {
   "cell_type": "code",
   "execution_count": 42,
   "id": "82a4db40",
   "metadata": {
    "ExecuteTime": {
     "end_time": "2024-01-09T11:46:13.663082Z",
     "start_time": "2024-01-09T11:46:13.598121Z"
    }
   },
   "outputs": [
    {
     "data": {
      "text/plain": "ToggleButtons(description='Your answer:', options=('left-most', 'left-center', 'right-center', 'right-most'), …",
      "application/vnd.jupyter.widget-view+json": {
       "version_major": 2,
       "version_minor": 0,
       "model_id": "3399590836754acea41b17490d92aa2e"
      }
     },
     "metadata": {},
     "output_type": "display_data"
    },
    {
     "data": {
      "text/plain": "Button(button_style='success', description='Save your answer!', style=ButtonStyle())",
      "application/vnd.jupyter.widget-view+json": {
       "version_major": 2,
       "version_minor": 0,
       "model_id": "db45e738181a44bf909dd80e0b41d33c"
      }
     },
     "metadata": {},
     "output_type": "display_data"
    },
    {
     "data": {
      "text/plain": "Output()",
      "application/vnd.jupyter.widget-view+json": {
       "version_major": 2,
       "version_minor": 0,
       "model_id": "10ed7284468d43d1aebde5a891ee9fcd"
      }
     },
     "metadata": {},
     "output_type": "display_data"
    }
   ],
   "source": [
    "# Run this cell to submit your answer\n",
    "utils.exercise_7()"
   ]
  },
  {
   "cell_type": "markdown",
   "id": "ba973eaf",
   "metadata": {},
   "source": [
    "## Exercise 8:\n",
    "\n",
    "Given the same scenario as in the previous exercise but with the twist that you only throw the dice a second time if the result of the first throw is **greater** or equal to 3. Which of the following `probability mass functions` will be the one you should get given this new constraint?\n",
    "\n",
    "<table><tr>\n",
    "<td> <img src=\"./images/6_sided_cond_green2.png\" style=\"height: 250px;\"/> </td>\n",
    "<td> <img src=\"./images/6_sided_cond_blue2.png\" style=\"height: 250px;\"/> </td>\n",
    "<td> <img src=\"./images/6_sided_cond_red2.png\" style=\"height: 250px;\"/> </td>\n",
    "<td> <img src=\"./images/6_sided_cond_brown2.png\" style=\"height: 250px;\"/> </td>\n",
    "\n",
    "</tr></table>\n"
   ]
  },
  {
   "cell_type": "code",
   "execution_count": 43,
   "id": "4d25300f",
   "metadata": {
    "ExecuteTime": {
     "end_time": "2024-01-09T11:47:09.086884Z",
     "start_time": "2024-01-09T11:47:07.907527Z"
    }
   },
   "outputs": [
    {
     "data": {
      "text/plain": "<Figure size 640x480 with 1 Axes>",
      "image/png": "[encoded data removed]"
     },
     "metadata": {},
     "output_type": "display_data"
    }
   ],
   "source": [
    "# You can use this cell for your calculations (not graded)\n",
    "dice = np.array([i for i in range(1,7)])\n",
    "n_rolls = 20000\n",
    "first_roll = np.array([np.random.choice(dice) for _ in range(n_rolls)])\n",
    "second_roll = np.array([np.random.choice(dice) for _ in range(n_rolls)])\n",
    "second_roll = np.where(first_roll >= 3, second_roll, 0)\n",
    "sum_of_rolls = first_roll + second_roll\n",
    "sum_plot = sns.histplot(sum_of_rolls, stat=\"probability\", discrete=True)\n",
    "sum_plot.set_title(f\"Histogram of sum of {n_rolls}\")\n",
    "plt.show()\n"
   ]
  },
  {
   "cell_type": "code",
   "execution_count": 44,
   "id": "33bb9fd2",
   "metadata": {
    "ExecuteTime": {
     "end_time": "2024-01-09T11:47:20.692562Z",
     "start_time": "2024-01-09T11:47:20.637251Z"
    }
   },
   "outputs": [
    {
     "data": {
      "text/plain": "ToggleButtons(description='Your answer:', options=('left-most', 'left-center', 'right-center', 'right-most'), …",
      "application/vnd.jupyter.widget-view+json": {
       "version_major": 2,
       "version_minor": 0,
       "model_id": "9201db2e1a1345758f886cf9924c752f"
      }
     },
     "metadata": {},
     "output_type": "display_data"
    },
    {
     "data": {
      "text/plain": "Button(button_style='success', description='Save your answer!', style=ButtonStyle())",
      "application/vnd.jupyter.widget-view+json": {
       "version_major": 2,
       "version_minor": 0,
       "model_id": "f75d3892929b4ffb92d1b4f0aed3c8e2"
      }
     },
     "metadata": {},
     "output_type": "display_data"
    },
    {
     "data": {
      "text/plain": "Output()",
      "application/vnd.jupyter.widget-view+json": {
       "version_major": 2,
       "version_minor": 0,
       "model_id": "2e5a1ee45dd742bdb6473bab92190192"
      }
     },
     "metadata": {},
     "output_type": "display_data"
    }
   ],
   "source": [
    "# Run this cell to submit your answer\n",
    "utils.exercise_8()"
   ]
  },
  {
   "cell_type": "markdown",
   "id": "017e9b22",
   "metadata": {},
   "source": [
    "## Exercise 9:\n",
    "\n",
    "Given a n-sided fair dice. You throw it twice and record the sum. How does increasing the number of sides `n` of the dice impact the mean and variance of the sum and the covariance of the joint distribution?"
   ]
  },
  {
   "cell_type": "code",
   "execution_count": 54,
   "id": "645a9b74",
   "metadata": {
    "ExecuteTime": {
     "end_time": "2024-01-09T12:06:47.310385Z",
     "start_time": "2024-01-09T12:06:42.569134Z"
    }
   },
   "outputs": [
    {
     "name": "stdout",
     "output_type": "stream",
     "text": [
      "mean of sum is 4.98485\n",
      "variance of the sum is 2.4842204774999996\n",
      "covariance of the sum is 2.4843446947347467\n",
      "mean of sum is 7.02135\n",
      "variance of the sum is 5.8090941775\n",
      "covariance of the sum is 5.809384646732339\n",
      "mean of sum is 9.02195\n",
      "variance of the sum is 10.314768197500001\n",
      "covariance of the sum is 10.31528396169809\n",
      "mean of sum is 11.02585\n",
      "variance of the sum is 16.516781777500004\n",
      "covariance of the sum is 16.51760765788293\n",
      "mean of sum is 13.01875\n",
      "variance of the sum is 24.1700984375\n",
      "covariance of the sum is 24.171307002850117\n",
      "mean of sum is 15.0413\n",
      "variance of the sum is 32.99709431\n",
      "covariance of the sum is 32.998744247212336\n",
      "mean of sum is 16.98355\n",
      "variance of the sum is 41.706079397500005\n",
      "covariance of the sum is 41.708164805740296\n",
      "mean of sum is 18.9443\n",
      "variance of the sum is 54.46959750999998\n",
      "covariance of the sum is 54.47232112605635\n"
     ]
    }
   ],
   "source": [
    "# You can use this cell for your calculations (not graded)\n",
    "def roll_nsided_dice(n=5):\n",
    "    dice = np.array([i for i in range(1,n)])\n",
    "    n_rolls = 20000\n",
    "    first_roll = np.array([np.random.choice(dice) for _ in range(n_rolls)]) \n",
    "    second_roll = np.array([np.random.choice(dice) for _ in range(n_rolls)])\n",
    "    #second_roll = np.where(first_roll<=3, second_roll, 0)\n",
    "    sum_of_rolls = first_roll + second_roll\n",
    "    print(f\"mean of sum is {np.mean(sum_of_rolls)}\\nvariance of the sum is {np.var(sum_of_rolls)}\\ncovariance of the sum is {np.cov(sum_of_rolls)}\")\n",
    "    #sum_plot = sns.histplot(sum_of_rolls, stat=\"probability\", discrete=True)\n",
    "    #sum_plot.set_title(f\"Histogram of sum of {n_rolls}\")\n",
    "    #plt.show()\n",
    "for i in range(5, 21, 2):\n",
    "    roll_nsided_dice(i)"
   ]
  },
  {
   "cell_type": "code",
   "execution_count": 55,
   "id": "907412da",
   "metadata": {
    "ExecuteTime": {
     "end_time": "2024-01-09T12:07:53.329328Z",
     "start_time": "2024-01-09T12:07:53.288242Z"
    }
   },
   "outputs": [
    {
     "name": "stdout",
     "output_type": "stream",
     "text": [
      "As the number of sides in the die increases:\n"
     ]
    },
    {
     "data": {
      "text/plain": "ToggleButtons(description='The mean of the sum:', options=('stays the same', 'increases', 'decreases'), value=…",
      "application/vnd.jupyter.widget-view+json": {
       "version_major": 2,
       "version_minor": 0,
       "model_id": "889e0586443b40bc9391818b539c22e2"
      }
     },
     "metadata": {},
     "output_type": "display_data"
    },
    {
     "data": {
      "text/plain": "ToggleButtons(description='The variance of the sum:', options=('stays the same', 'increases', 'decreases'), va…",
      "application/vnd.jupyter.widget-view+json": {
       "version_major": 2,
       "version_minor": 0,
       "model_id": "99de360fc5524a59bf8146b1d89d1538"
      }
     },
     "metadata": {},
     "output_type": "display_data"
    },
    {
     "data": {
      "text/plain": "ToggleButtons(description='The covariance of the joint distribution:', options=('stays the same', 'increases',…",
      "application/vnd.jupyter.widget-view+json": {
       "version_major": 2,
       "version_minor": 0,
       "model_id": "1d1eee40675743c0b203bff80642cc55"
      }
     },
     "metadata": {},
     "output_type": "display_data"
    },
    {
     "data": {
      "text/plain": "Button(button_style='success', description='Save your answer!', style=ButtonStyle())",
      "application/vnd.jupyter.widget-view+json": {
       "version_major": 2,
       "version_minor": 0,
       "model_id": "f11b899b291e404fb5abcc21bb34a357"
      }
     },
     "metadata": {},
     "output_type": "display_data"
    },
    {
     "data": {
      "text/plain": "Output()",
      "application/vnd.jupyter.widget-view+json": {
       "version_major": 2,
       "version_minor": 0,
       "model_id": "35eb3a96fe2f41429de21f641d9b144a"
      }
     },
     "metadata": {},
     "output_type": "display_data"
    }
   ],
   "source": [
    "# Run this cell to submit your answer\n",
    "utils.exercise_9()"
   ]
  },
  {
   "cell_type": "markdown",
   "id": "fcf9b3ac",
   "metadata": {},
   "source": [
    "## Exercise 10:\n",
    "\n",
    "Given a 6-sided loaded dice. You throw it twice and record the sum. Which of the following statements is true?"
   ]
  },
  {
   "cell_type": "code",
   "execution_count": null,
   "id": "008c5858",
   "metadata": {},
   "outputs": [],
   "source": [
    "# You can use this cell for your calculations (not graded)\n",
    "\n"
   ]
  },
  {
   "cell_type": "code",
   "execution_count": 56,
   "id": "99373567",
   "metadata": {
    "ExecuteTime": {
     "end_time": "2024-01-09T12:08:28.029966Z",
     "start_time": "2024-01-09T12:08:27.863779Z"
    }
   },
   "outputs": [
    {
     "data": {
      "text/plain": "RadioButtons(layout=Layout(width='max-content'), options=('the mean and variance is the same regardless of whi…",
      "application/vnd.jupyter.widget-view+json": {
       "version_major": 2,
       "version_minor": 0,
       "model_id": "92a78921a76846f8aeb22cc0d2c0c037"
      }
     },
     "metadata": {},
     "output_type": "display_data"
    },
    {
     "data": {
      "text/plain": "Button(button_style='success', description='Save your answer!', style=ButtonStyle())",
      "application/vnd.jupyter.widget-view+json": {
       "version_major": 2,
       "version_minor": 0,
       "model_id": "9a6a179fbffc4621bf1436811842068b"
      }
     },
     "metadata": {},
     "output_type": "display_data"
    },
    {
     "data": {
      "text/plain": "Output()",
      "application/vnd.jupyter.widget-view+json": {
       "version_major": 2,
       "version_minor": 0,
       "model_id": "cb288345d25845d5b04882693ac7a3bc"
      }
     },
     "metadata": {},
     "output_type": "display_data"
    }
   ],
   "source": [
    "# Run this cell to submit your answer\n",
    "utils.exercise_10()"
   ]
  },
  {
   "cell_type": "markdown",
   "id": "0a84afef",
   "metadata": {},
   "source": [
    "## Exercise 11:\n",
    "\n",
    "Given a fair n-sided dice. You throw it twice and record the sum but the second throw depends on the result of the first one such as in exercises 7 and 8. Which of the following statements is true?"
   ]
  },
  {
   "cell_type": "code",
   "execution_count": null,
   "id": "7cb6ad84",
   "metadata": {},
   "outputs": [],
   "source": [
    "# You can use this cell for your calculations (not graded)\n",
    "\n"
   ]
  },
  {
   "cell_type": "code",
   "execution_count": 57,
   "id": "9b048c03",
   "metadata": {
    "ExecuteTime": {
     "end_time": "2024-01-09T12:10:01.842609Z",
     "start_time": "2024-01-09T12:10:01.576492Z"
    }
   },
   "outputs": [
    {
     "data": {
      "text/plain": "RadioButtons(layout=Layout(width='max-content'), options=('changing the direction of the inequality will chang…",
      "application/vnd.jupyter.widget-view+json": {
       "version_major": 2,
       "version_minor": 0,
       "model_id": "c69175442c1b4b4e8bddbbc4918240d5"
      }
     },
     "metadata": {},
     "output_type": "display_data"
    },
    {
     "data": {
      "text/plain": "Button(button_style='success', description='Save your answer!', style=ButtonStyle())",
      "application/vnd.jupyter.widget-view+json": {
       "version_major": 2,
       "version_minor": 0,
       "model_id": "465293b2c85c4c6a83df33073e5647c0"
      }
     },
     "metadata": {},
     "output_type": "display_data"
    },
    {
     "data": {
      "text/plain": "Output()",
      "application/vnd.jupyter.widget-view+json": {
       "version_major": 2,
       "version_minor": 0,
       "model_id": "826ceefdfebd4a53b81920236ac0e6f6"
      }
     },
     "metadata": {},
     "output_type": "display_data"
    }
   ],
   "source": [
    "# Run this cell to submit your answer\n",
    "utils.exercise_11()"
   ]
  },
  {
   "cell_type": "markdown",
   "id": "f8a1a8a3",
   "metadata": {},
   "source": [
    "## Exercise 12:\n",
    "\n",
    "Given a n-sided dice (could be fair or not). You throw it twice and record the sum (there is no dependance between the throws). If you are only given the histogram of the sums can you use it to know which are the probabilities of the dice landing on each side?\n",
    "\n",
    "In other words, if you are provided with only the histogram of the sums like this one:\n",
    "<td> <img src=\"./images/hist_sum_6_side.png\" style=\"height: 300px;\"/> </td>\n",
    "\n",
    "Could you use it to know the probabilities of the dice landing on each side? Which will be equivalent to finding this histogram:\n",
    "<img src=\"./images/fair_dice.png\" style=\"height: 300px;\"/>\n"
   ]
  },
  {
   "cell_type": "code",
   "execution_count": null,
   "id": "b42149cf",
   "metadata": {},
   "outputs": [],
   "source": [
    "# You can use this cell for your calculations (not graded)\n",
    "\n"
   ]
  },
  {
   "cell_type": "code",
   "execution_count": 58,
   "id": "33a2e4d9",
   "metadata": {
    "ExecuteTime": {
     "end_time": "2024-01-09T12:12:12.602804Z",
     "start_time": "2024-01-09T12:12:12.554166Z"
    }
   },
   "outputs": [
    {
     "data": {
      "text/plain": "RadioButtons(layout=Layout(width='max-content'), options=('yes, but only if one of the sides is loaded', 'no, …",
      "application/vnd.jupyter.widget-view+json": {
       "version_major": 2,
       "version_minor": 0,
       "model_id": "31bc68e0da614adf9037e44976538ac0"
      }
     },
     "metadata": {},
     "output_type": "display_data"
    },
    {
     "data": {
      "text/plain": "Button(button_style='success', description='Save your answer!', style=ButtonStyle())",
      "application/vnd.jupyter.widget-view+json": {
       "version_major": 2,
       "version_minor": 0,
       "model_id": "ed57d0eb52d54da38421d3332225d488"
      }
     },
     "metadata": {},
     "output_type": "display_data"
    },
    {
     "data": {
      "text/plain": "Output()",
      "application/vnd.jupyter.widget-view+json": {
       "version_major": 2,
       "version_minor": 0,
       "model_id": "2e83da857e1a44a78003d61354c2d97c"
      }
     },
     "metadata": {},
     "output_type": "display_data"
    }
   ],
   "source": [
    "# Run this cell to submit your answer\n",
    "utils.exercise_12()"
   ]
  },
  {
   "cell_type": "markdown",
   "id": "1635ca7c",
   "metadata": {},
   "source": [
    "## Before Submitting Your Assignment\n",
    "\n",
    "Run the next cell to check that you have answered all of the exercises"
   ]
  },
  {
   "cell_type": "code",
   "execution_count": 59,
   "id": "c6822278",
   "metadata": {
    "ExecuteTime": {
     "end_time": "2024-01-09T12:14:16.837354Z",
     "start_time": "2024-01-09T12:14:16.778577Z"
    }
   },
   "outputs": [
    {
     "name": "stdout",
     "output_type": "stream",
     "text": [
      "All answers saved, you can submit the assignment for grading!\n"
     ]
    }
   ],
   "source": [
    "utils.check_submissions()"
   ]
  },
  {
   "cell_type": "markdown",
   "id": "5286008f",
   "metadata": {},
   "source": [
    "**Congratulations on finishing this assignment!**\n",
    "\n",
    "During this assignment you tested your knowledge on probability distributions, descriptive statistics and visual interpretation of these concepts. You had the choice to compute everything analytically or create simulations to assist you get the right answer. You probably also realized that some exercises could be answered without any computations just by looking at certain hidden queues that the visualizations revealed.\n",
    "\n",
    "**Keep up the good work!**\n"
   ]
  }
 ],
 "metadata": {
  "kernelspec": {
   "display_name": "Python 3 (ipykernel)",
   "language": "python",
   "name": "python3"
  },
  "language_info": {
   "codemirror_mode": {
    "name": "ipython",
    "version": 3
   },
   "file_extension": ".py",
   "mimetype": "text/x-python",
   "name": "python",
   "nbconvert_exporter": "python",
   "pygments_lexer": "ipython3",
   "version": "3.10.9"
  }
 },
 "nbformat": 4,
 "nbformat_minor": 5
}
